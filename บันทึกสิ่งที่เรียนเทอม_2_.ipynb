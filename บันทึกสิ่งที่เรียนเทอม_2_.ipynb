{
  "nbformat": 4,
  "nbformat_minor": 0,
  "metadata": {
    "colab": {
      "provenance": [],
      "authorship_tag": "ABX9TyNjSMBurwdzksmE8RV4gUfK",
      "include_colab_link": true
    },
    "kernelspec": {
      "name": "python3",
      "display_name": "Python 3"
    },
    "language_info": {
      "name": "python"
    }
  },
  "cells": [
    {
      "cell_type": "markdown",
      "metadata": {
        "id": "view-in-github",
        "colab_type": "text"
      },
      "source": [
        "<a href=\"https://colab.research.google.com/github/Kanchanasud/bsc_dpdm22/blob/main/%E0%B8%9A%E0%B8%B1%E0%B8%99%E0%B8%97%E0%B8%B6%E0%B8%81%E0%B8%AA%E0%B8%B4%E0%B9%88%E0%B8%87%E0%B8%97%E0%B8%B5%E0%B9%88%E0%B9%80%E0%B8%A3%E0%B8%B5%E0%B8%A2%E0%B8%99%E0%B9%80%E0%B8%97%E0%B8%AD%E0%B8%A1_2_.ipynb\" target=\"_parent\"><img src=\"https://colab.research.google.com/assets/colab-badge.svg\" alt=\"Open In Colab\"/></a>"
      ]
    },
    {
      "cell_type": "markdown",
      "source": [
        "- 06FPBasic https://drive.google.com/file/d/1lR0Hqmxd06RN_S6YXxtM3bf7JXkuzwlU/view?usp=sharing\n",
        "\n",
        "- 08ClassBasic https://drive.google.com/file/d/1ALFcq5ctc274G_8lL0G1a_4spjtOl_Bf/view?usp=sharing"
      ],
      "metadata": {
        "id": "DL1Kt6oQ36cm"
      }
    }
  ]
}