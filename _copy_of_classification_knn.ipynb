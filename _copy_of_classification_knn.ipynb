{
  "nbformat": 4,
  "nbformat_minor": 0,
  "metadata": {
    "colab": {
      "provenance": [],
      "include_colab_link": true
    },
    "kernelspec": {
      "name": "python3",
      "display_name": "Python 3"
    },
    "language_info": {
      "name": "python"
    }
  },
  "cells": [
    {
      "cell_type": "markdown",
      "metadata": {
        "id": "view-in-github",
        "colab_type": "text"
      },
      "source": [
        "<a href=\"https://colab.research.google.com/github/Kanchanasud/bsc_dpdm22/blob/main/_copy_of_classification_knn.ipynb\" target=\"_parent\"><img src=\"https://colab.research.google.com/assets/colab-badge.svg\" alt=\"Open In Colab\"/></a>"
      ]
    },
    {
      "cell_type": "code",
      "source": [
        "from sklearn.datasets import load_digits\n",
        "digits = load_digits()\n",
        "\n",
        "import matplotlib.pyplot as plt"
      ],
      "metadata": {
        "id": "7UxG6ioqVi61"
      },
      "execution_count": 3,
      "outputs": []
    },
    {
      "cell_type": "code",
      "source": [
        "digits"
      ],
      "metadata": {
        "colab": {
          "base_uri": "https://localhost:8080/"
        },
        "id": "5sLlhw40V-bO",
        "outputId": "cfe5593f-8679-4c54-8b2d-957084b0cf73"
      },
      "execution_count": 4,
      "outputs": [
        {
          "output_type": "execute_result",
          "data": {
            "text/plain": [
              "{'data': array([[ 0.,  0.,  5., ...,  0.,  0.,  0.],\n",
              "        [ 0.,  0.,  0., ..., 10.,  0.,  0.],\n",
              "        [ 0.,  0.,  0., ..., 16.,  9.,  0.],\n",
              "        ...,\n",
              "        [ 0.,  0.,  1., ...,  6.,  0.,  0.],\n",
              "        [ 0.,  0.,  2., ..., 12.,  0.,  0.],\n",
              "        [ 0.,  0., 10., ..., 12.,  1.,  0.]]),\n",
              " 'target': array([0, 1, 2, ..., 8, 9, 8]),\n",
              " 'frame': None,\n",
              " 'feature_names': ['pixel_0_0',\n",
              "  'pixel_0_1',\n",
              "  'pixel_0_2',\n",
              "  'pixel_0_3',\n",
              "  'pixel_0_4',\n",
              "  'pixel_0_5',\n",
              "  'pixel_0_6',\n",
              "  'pixel_0_7',\n",
              "  'pixel_1_0',\n",
              "  'pixel_1_1',\n",
              "  'pixel_1_2',\n",
              "  'pixel_1_3',\n",
              "  'pixel_1_4',\n",
              "  'pixel_1_5',\n",
              "  'pixel_1_6',\n",
              "  'pixel_1_7',\n",
              "  'pixel_2_0',\n",
              "  'pixel_2_1',\n",
              "  'pixel_2_2',\n",
              "  'pixel_2_3',\n",
              "  'pixel_2_4',\n",
              "  'pixel_2_5',\n",
              "  'pixel_2_6',\n",
              "  'pixel_2_7',\n",
              "  'pixel_3_0',\n",
              "  'pixel_3_1',\n",
              "  'pixel_3_2',\n",
              "  'pixel_3_3',\n",
              "  'pixel_3_4',\n",
              "  'pixel_3_5',\n",
              "  'pixel_3_6',\n",
              "  'pixel_3_7',\n",
              "  'pixel_4_0',\n",
              "  'pixel_4_1',\n",
              "  'pixel_4_2',\n",
              "  'pixel_4_3',\n",
              "  'pixel_4_4',\n",
              "  'pixel_4_5',\n",
              "  'pixel_4_6',\n",
              "  'pixel_4_7',\n",
              "  'pixel_5_0',\n",
              "  'pixel_5_1',\n",
              "  'pixel_5_2',\n",
              "  'pixel_5_3',\n",
              "  'pixel_5_4',\n",
              "  'pixel_5_5',\n",
              "  'pixel_5_6',\n",
              "  'pixel_5_7',\n",
              "  'pixel_6_0',\n",
              "  'pixel_6_1',\n",
              "  'pixel_6_2',\n",
              "  'pixel_6_3',\n",
              "  'pixel_6_4',\n",
              "  'pixel_6_5',\n",
              "  'pixel_6_6',\n",
              "  'pixel_6_7',\n",
              "  'pixel_7_0',\n",
              "  'pixel_7_1',\n",
              "  'pixel_7_2',\n",
              "  'pixel_7_3',\n",
              "  'pixel_7_4',\n",
              "  'pixel_7_5',\n",
              "  'pixel_7_6',\n",
              "  'pixel_7_7'],\n",
              " 'target_names': array([0, 1, 2, 3, 4, 5, 6, 7, 8, 9]),\n",
              " 'images': array([[[ 0.,  0.,  5., ...,  1.,  0.,  0.],\n",
              "         [ 0.,  0., 13., ..., 15.,  5.,  0.],\n",
              "         [ 0.,  3., 15., ..., 11.,  8.,  0.],\n",
              "         ...,\n",
              "         [ 0.,  4., 11., ..., 12.,  7.,  0.],\n",
              "         [ 0.,  2., 14., ..., 12.,  0.,  0.],\n",
              "         [ 0.,  0.,  6., ...,  0.,  0.,  0.]],\n",
              " \n",
              "        [[ 0.,  0.,  0., ...,  5.,  0.,  0.],\n",
              "         [ 0.,  0.,  0., ...,  9.,  0.,  0.],\n",
              "         [ 0.,  0.,  3., ...,  6.,  0.,  0.],\n",
              "         ...,\n",
              "         [ 0.,  0.,  1., ...,  6.,  0.,  0.],\n",
              "         [ 0.,  0.,  1., ...,  6.,  0.,  0.],\n",
              "         [ 0.,  0.,  0., ..., 10.,  0.,  0.]],\n",
              " \n",
              "        [[ 0.,  0.,  0., ..., 12.,  0.,  0.],\n",
              "         [ 0.,  0.,  3., ..., 14.,  0.,  0.],\n",
              "         [ 0.,  0.,  8., ..., 16.,  0.,  0.],\n",
              "         ...,\n",
              "         [ 0.,  9., 16., ...,  0.,  0.,  0.],\n",
              "         [ 0.,  3., 13., ..., 11.,  5.,  0.],\n",
              "         [ 0.,  0.,  0., ..., 16.,  9.,  0.]],\n",
              " \n",
              "        ...,\n",
              " \n",
              "        [[ 0.,  0.,  1., ...,  1.,  0.,  0.],\n",
              "         [ 0.,  0., 13., ...,  2.,  1.,  0.],\n",
              "         [ 0.,  0., 16., ..., 16.,  5.,  0.],\n",
              "         ...,\n",
              "         [ 0.,  0., 16., ..., 15.,  0.,  0.],\n",
              "         [ 0.,  0., 15., ..., 16.,  0.,  0.],\n",
              "         [ 0.,  0.,  2., ...,  6.,  0.,  0.]],\n",
              " \n",
              "        [[ 0.,  0.,  2., ...,  0.,  0.,  0.],\n",
              "         [ 0.,  0., 14., ..., 15.,  1.,  0.],\n",
              "         [ 0.,  4., 16., ..., 16.,  7.,  0.],\n",
              "         ...,\n",
              "         [ 0.,  0.,  0., ..., 16.,  2.,  0.],\n",
              "         [ 0.,  0.,  4., ..., 16.,  2.,  0.],\n",
              "         [ 0.,  0.,  5., ..., 12.,  0.,  0.]],\n",
              " \n",
              "        [[ 0.,  0., 10., ...,  1.,  0.,  0.],\n",
              "         [ 0.,  2., 16., ...,  1.,  0.,  0.],\n",
              "         [ 0.,  0., 15., ..., 15.,  0.,  0.],\n",
              "         ...,\n",
              "         [ 0.,  4., 16., ..., 16.,  6.,  0.],\n",
              "         [ 0.,  8., 16., ..., 16.,  8.,  0.],\n",
              "         [ 0.,  1.,  8., ..., 12.,  1.,  0.]]]),\n",
              " 'DESCR': \".. _digits_dataset:\\n\\nOptical recognition of handwritten digits dataset\\n--------------------------------------------------\\n\\n**Data Set Characteristics:**\\n\\n    :Number of Instances: 1797\\n    :Number of Attributes: 64\\n    :Attribute Information: 8x8 image of integer pixels in the range 0..16.\\n    :Missing Attribute Values: None\\n    :Creator: E. Alpaydin (alpaydin '@' boun.edu.tr)\\n    :Date: July; 1998\\n\\nThis is a copy of the test set of the UCI ML hand-written digits datasets\\nhttps://archive.ics.uci.edu/ml/datasets/Optical+Recognition+of+Handwritten+Digits\\n\\nThe data set contains images of hand-written digits: 10 classes where\\neach class refers to a digit.\\n\\nPreprocessing programs made available by NIST were used to extract\\nnormalized bitmaps of handwritten digits from a preprinted form. From a\\ntotal of 43 people, 30 contributed to the training set and different 13\\nto the test set. 32x32 bitmaps are divided into nonoverlapping blocks of\\n4x4 and the number of on pixels are counted in each block. This generates\\nan input matrix of 8x8 where each element is an integer in the range\\n0..16. This reduces dimensionality and gives invariance to small\\ndistortions.\\n\\nFor info on NIST preprocessing routines, see M. D. Garris, J. L. Blue, G.\\nT. Candela, D. L. Dimmick, J. Geist, P. J. Grother, S. A. Janet, and C.\\nL. Wilson, NIST Form-Based Handprint Recognition System, NISTIR 5469,\\n1994.\\n\\n.. topic:: References\\n\\n  - C. Kaynak (1995) Methods of Combining Multiple Classifiers and Their\\n    Applications to Handwritten Digit Recognition, MSc Thesis, Institute of\\n    Graduate Studies in Science and Engineering, Bogazici University.\\n  - E. Alpaydin, C. Kaynak (1998) Cascading Classifiers, Kybernetika.\\n  - Ken Tang and Ponnuthurai N. Suganthan and Xi Yao and A. Kai Qin.\\n    Linear dimensionalityreduction using relevance weighted LDA. School of\\n    Electrical and Electronic Engineering Nanyang Technological University.\\n    2005.\\n  - Claudio Gentile. A New Approximate Maximal Margin Classification\\n    Algorithm. NIPS. 2000.\\n\"}"
            ]
          },
          "metadata": {},
          "execution_count": 4
        }
      ]
    },
    {
      "cell_type": "code",
      "source": [
        "ind = 28\n",
        "plt.gray()\n",
        "plt.matshow(digits.images[ind])\n",
        "print(digits.target[ind])"
      ],
      "metadata": {
        "colab": {
          "base_uri": "https://localhost:8080/",
          "height": 311
        },
        "id": "HghSIVprWYp2",
        "outputId": "71279d7e-2345-42e3-cf9f-c53040155a86"
      },
      "execution_count": 5,
      "outputs": [
        {
          "output_type": "stream",
          "name": "stdout",
          "text": [
            "8\n"
          ]
        },
        {
          "output_type": "display_data",
          "data": {
            "text/plain": [
              "<Figure size 432x288 with 0 Axes>"
            ]
          },
          "metadata": {}
        },
        {
          "output_type": "display_data",
          "data": {
            "text/plain": [
              "<Figure size 288x288 with 1 Axes>"
            ],
            "image/png": "[encoded data removed]"
          },
          "metadata": {
            "needs_background": "light"
          }
        }
      ]
    },
    {
      "cell_type": "markdown",
      "source": [
        "# Quiz 3 march\n",
        "\n",
        "- แบ่ง data ออกเป็น 80%(train) 20%(test) โดยใช้ random_state = เลขกลุ่ม shuffle=True (กลุ่ม 6)\n",
        "- หา parameters ที่ดีที่สุด (K (1,3,5), Distance_weighted(yes/no)) ด้วย 10-fold-cross-validation\n",
        "- test parameters ที่ดีที่สุด กับ test data\n"
      ],
      "metadata": {
        "id": "pzJYNjcWVTM1"
      }
    },
    {
      "cell_type": "markdown",
      "source": [
        " - แบ่ง data ออกเป็น 80%(train) 20%(test) โดยใช้ random_state = เลขกลุ่ม shuffle=True (กลุ่ม 6)\n"
      ],
      "metadata": {
        "id": "pD9bGz7ha-jm"
      }
    },
    {
      "cell_type": "code",
      "execution_count": 6,
      "metadata": {
        "id": "qCaJZ0ycU3ju"
      },
      "outputs": [],
      "source": [
        "from sklearn.datasets import load_digits\n",
        "from sklearn.model_selection import train_test_split\n",
        "\n",
        "# load digits dataset\n",
        "digits = load_digits()\n",
        "\n",
        "# split the dataset into training and testing sets\n",
        "X_train, X_test, y_train, y_test = train_test_split(digits.data, digits.target, test_size=0.2, random_state=6) #แบ่งข้อมูลออกออกเป็น 80%(train) 20%(test) โดยใช้ random_state =6\n"
      ]
    },
    {
      "cell_type": "code",
      "source": [
        "\n",
        "import numpy as np #คำสั่งดังนี้เพื่อตรวจสอบจำนวนข้อมูลในแต่ละคลาส \n",
        "\n",
        "unique, counts = np.unique(y_train, return_counts=True)\n",
        "print(\"Training set class distribution:\", dict(zip(unique, counts)))\n",
        "\n",
        "unique, counts = np.unique(y_test, return_counts=True)\n",
        "print(\"Test set class distribution:\", dict(zip(unique, counts)))\n"
      ],
      "metadata": {
        "id": "oyK6OjcVabBQ",
        "outputId": "5fa177a4-cfa6-449e-9f92-9bd4a54e14de",
        "colab": {
          "base_uri": "https://localhost:8080/"
        }
      },
      "execution_count": 7,
      "outputs": [
        {
          "output_type": "stream",
          "name": "stdout",
          "text": [
            "Training set class distribution: {0: 138, 1: 145, 2: 135, 3: 151, 4: 138, 5: 145, 6: 144, 7: 145, 8: 145, 9: 151}\n",
            "Test set class distribution: {0: 40, 1: 37, 2: 42, 3: 32, 4: 43, 5: 37, 6: 37, 7: 34, 8: 29, 9: 29}\n"
          ]
        }
      ]
    },
    {
      "cell_type": "code",
      "source": [
        "#ตรวจสอบว่าการแบ่งข้อมูลถูกต้องหรือไม่\n",
        "print(\"Training set size:\", X_train.shape[0])\n",
        "print(\"Test set size:\", X_test.shape[0])\n"
      ],
      "metadata": {
        "id": "als0bH4YbdCf",
        "outputId": "9666e1c2-8129-4de7-c527-6aa0d870c4e7",
        "colab": {
          "base_uri": "https://localhost:8080/"
        }
      },
      "execution_count": 8,
      "outputs": [
        {
          "output_type": "stream",
          "name": "stdout",
          "text": [
            "Training set size: 1437\n",
            "Test set size: 360\n"
          ]
        }
      ]
    },
    {
      "cell_type": "markdown",
      "source": [
        "- หา parameters ที่ดีที่สุด (K (1,3,5), Distance_weighted(yes/no)) ด้วย 10-fold-cross-validation"
      ],
      "metadata": {
        "id": "UmJqh_78bElu"
      }
    },
    {
      "cell_type": "code",
      "source": [
        "#หาพารามิเตอร์ที่เหมาะสม โดย K ที่เราจะใช้คือ 1, 3, 5 และ Distance_weighted คือ yes หรือ no ซึ่งหมายความว่าเราจะใช้เพียงระยะทางเป็นตัวชี้วัดหรือไม่ก็ขึ้นอยู่กับการใช้ weight ในการคำนวณระยะทาง โดยใช้ GridSearchCV ของ scikit-learn เพื่อค้นหาค่าพารามิเตอร์ที่ดีที่สุด\n",
        "\n",
        "from sklearn.neighbors import KNeighborsClassifier\n",
        "from sklearn.model_selection import GridSearchCV\n",
        "from sklearn.datasets import load_digits\n",
        "\n",
        "# load the digits dataset\n",
        "digits = load_digits()\n",
        "\n",
        "# define the k-NN classifier\n",
        "knn = KNeighborsClassifier()\n",
        "\n",
        "# define the parameter grid\n",
        "param_grid = {'n_neighbors': [1, 3, 5], 'weights': ['uniform', 'distance']}\n",
        "\n",
        "# perform grid search with 10-fold cross-validation\n",
        "grid_search = GridSearchCV(knn, param_grid=param_grid, cv=10)\n",
        "grid_search.fit(digits.data, digits.target)\n",
        "\n",
        "# print the best parameters and best score\n",
        "print(\"Best parameters:\", grid_search.best_params_)\n",
        "print(\"Best score:\", grid_search.best_score_)\n"
      ],
      "metadata": {
        "id": "wnmnN6iAbvkO",
        "outputId": "97f63285-9fbe-49b9-c045-6a2266e8ba20",
        "colab": {
          "base_uri": "https://localhost:8080/"
        }
      },
      "execution_count": 9,
      "outputs": [
        {
          "output_type": "stream",
          "name": "stdout",
          "text": [
            "Best parameters: {'n_neighbors': 3, 'weights': 'distance'}\n",
            "Best score: 0.9771849782743638\n"
          ]
        }
      ]
    },
    {
      "cell_type": "markdown",
      "source": [
        "- test parameters ที่ดีที่สุด กับ test data"
      ],
      "metadata": {
        "id": "Xd8gma1Zb5VH"
      }
    },
    {
      "cell_type": "code",
      "source": [
        "#สร้างโมเดล k-NN ด้วย parameters ดังกล่าวและนำมาทดสอบกับข้อมูลที่เหลือที่ไม่ได้ใช้ในการเทรนโมเดล (test data)\n",
        "\n",
        "from sklearn.neighbors import KNeighborsClassifier\n",
        "from sklearn.datasets import load_digits\n",
        "from sklearn.model_selection import train_test_split\n",
        "\n",
        "# load the digits dataset\n",
        "digits = load_digits()\n",
        "\n",
        "# split the data into train and test sets\n",
        "X_train, X_test, y_train, y_test = train_test_split(digits.data, digits.target, test_size=0.2, random_state=6)\n",
        "\n",
        "# define the k-NN classifier with the best parameters found from cross-validation\n",
        "knn = KNeighborsClassifier(n_neighbors=3, weights='distance')\n",
        "\n",
        "# train the classifier on the training data\n",
        "knn.fit(X_train, y_train)\n",
        "\n",
        "# test the classifier on the test data\n",
        "accuracy = knn.score(X_test, y_test)\n",
        "\n",
        "# print the test accuracy\n",
        "print(\"Test accuracy:\", accuracy)\n"
      ],
      "metadata": {
        "id": "ZEfIwP32b4im",
        "outputId": "3d5a9173-a930-45f4-a1f6-00a639f1bd23",
        "colab": {
          "base_uri": "https://localhost:8080/"
        }
      },
      "execution_count": 10,
      "outputs": [
        {
          "output_type": "stream",
          "name": "stdout",
          "text": [
            "Test accuracy: 0.9861111111111112\n"
          ]
        }
      ]
    },
    {
      "cell_type": "code",
      "source": [
        "################################อีกวิธี###########################################"
      ],
      "metadata": {
        "id": "DyMGtGgDiu5H"
      },
      "execution_count": 11,
      "outputs": []
    },
    {
      "cell_type": "code",
      "source": [
        "from sklearn.model_selection import train_test_split\n",
        "\n",
        "X = digits['data']\n",
        "y = digits['target']\n",
        "X_train, X_test, y_train, y_test = train_test_split(X, y, test_size=0.2, random_state=6, shuffle=True)\n",
        "\n",
        "from sklearn.neighbors import KNeighborsClassifier\n",
        "from sklearn.model_selection import GridSearchCV\n",
        "\n",
        "k_range = [1, 3, 5]\n",
        "weight_options = ['uniform', 'distance']\n",
        "param_grid = {'n_neighbors': k_range, 'weights': weight_options}\n",
        "\n",
        "knn = KNeighborsClassifier()\n",
        "grid_search = GridSearchCV(knn, param_grid, cv=10)\n",
        "\n",
        "grid_search.fit(X_train, y_train)\n",
        "\n",
        "print(\"Best Parameters: \", grid_search.best_params_)\n",
        "best_knn = KNeighborsClassifier(n_neighbors=grid_search.best_params_['n_neighbors'],\n",
        "                                 weights=grid_search.best_params_['weights'])\n",
        "\n",
        "best_knn.fit(X_train, y_train)\n",
        "\n",
        "accuracy = best_knn.score(X_test, y_test)\n",
        "\n",
        "print(\"Accuracy on test data: {:.2f}%\".format(accuracy * 100))"
      ],
      "metadata": {
        "id": "OHZvK_Tbdsdx",
        "outputId": "bdd48d30-1de9-46e4-9367-85184b85585a",
        "colab": {
          "base_uri": "https://localhost:8080/"
        }
      },
      "execution_count": 12,
      "outputs": [
        {
          "output_type": "stream",
          "name": "stdout",
          "text": [
            "Best Parameters:  {'n_neighbors': 3, 'weights': 'distance'}\n",
            "Accuracy on test data: 98.61%\n"
          ]
        }
      ]
    },
    {
      "cell_type": "markdown",
      "source": [
        "#เฉลย"
      ],
      "metadata": {
        "id": "MNcsc4KZme8t"
      }
    },
    {
      "cell_type": "code",
      "source": [
        "from sklearn.model_selection import train_test_split, cross_val_score"
      ],
      "metadata": {
        "id": "IOD27d49migE"
      },
      "execution_count": 13,
      "outputs": []
    },
    {
      "cell_type": "code",
      "source": [
        "\n",
        "X_train, X_test, y_train, y_test = train_test_split(digits.data, digits.target, test_size=0.2, random_state=50)"
      ],
      "metadata": {
        "id": "krU35KTWmmIE"
      },
      "execution_count": 14,
      "outputs": []
    },
    {
      "cell_type": "code",
      "source": [
        "\n",
        "from sklearn.neighbors import KNeighborsClassifier"
      ],
      "metadata": {
        "id": "vL60nUkXmoAV"
      },
      "execution_count": 15,
      "outputs": []
    },
    {
      "cell_type": "markdown",
      "source": [
        "- model selection"
      ],
      "metadata": {
        "id": "RlMjhB_Lmo0c"
      }
    },
    {
      "cell_type": "code",
      "source": [
        "# model 1 (K=1, weighted)\n",
        "knn_distance = KNeighborsClassifier(n_neighbors=1, weights='distance')\n",
        "scores = cross_val_score(knn_distance, X_train, y_train, cv=10)\n",
        "print(\"Mean Cross-Validation Score: K1weighted\", scores.mean())\n",
        "\n",
        "# model 2 (K=3, weighted)\n",
        "knn_distance = KNeighborsClassifier(n_neighbors=3, weights='distance')\n",
        "scores = cross_val_score(knn_distance, X_train, y_train, cv=10)\n",
        "print(\"Mean Cross-Validation Score: K3weighted\", scores.mean())\n",
        "\n",
        "# model 3 (K=5, weighted)\n",
        "knn_distance = KNeighborsClassifier(n_neighbors=5, weights='distance')\n",
        "scores = cross_val_score(knn_distance, X_train, y_train, cv=10)\n",
        "print(\"Mean Cross-Validation Score: K5weighted\", scores.mean())\n",
        "\n",
        "# model 4 (K=1, no weighted)\n",
        "knn_distance = KNeighborsClassifier(n_neighbors=1, weights='uniform')\n",
        "scores = cross_val_score(knn_distance, X_train, y_train, cv=10)\n",
        "print(\"Mean Cross-Validation Score: K1NOweighted\", scores.mean())\n",
        "\n",
        "# model 5 (K=3, no weighted)\n",
        "knn_distance = KNeighborsClassifier(n_neighbors=3, weights='uniform')\n",
        "scores = cross_val_score(knn_distance, X_train, y_train, cv=10)\n",
        "print(\"Mean Cross-Validation Score: K3NOweighted\", scores.mean())\n",
        "\n",
        "# model 6 (K=5, no weighted)\n",
        "knn_distance = KNeighborsClassifier(n_neighbors=5, weights='uniform')\n",
        "scores = cross_val_score(knn_distance, X_train, y_train, cv=10)\n",
        "print(\"Mean Cross-Validation Score: KNOweighted\", scores.mean())"
      ],
      "metadata": {
        "id": "7BmPwYhxmtY6",
        "outputId": "270d42fa-3fb1-429e-d78d-16acd6967b04",
        "colab": {
          "base_uri": "https://localhost:8080/"
        }
      },
      "execution_count": 16,
      "outputs": [
        {
          "output_type": "stream",
          "name": "stdout",
          "text": [
            "Mean Cross-Validation Score: K1weighted 0.9853875291375293\n",
            "Mean Cross-Validation Score: K3weighted 0.9853875291375293\n",
            "Mean Cross-Validation Score: K5weighted 0.9853923853923854\n",
            "Mean Cross-Validation Score: K1NOweighted 0.9853875291375293\n",
            "Mean Cross-Validation Score: K3NOweighted 0.9853826728826729\n",
            "Mean Cross-Validation Score: KNOweighted 0.9846930846930848\n"
          ]
        }
      ]
    },
    {
      "cell_type": "markdown",
      "source": [
        "- Evaluate with test set"
      ],
      "metadata": {
        "id": "jhebNB5qmzJ3"
      }
    },
    {
      "cell_type": "code",
      "source": [
        "knn_distance = KNeighborsClassifier(n_neighbors=5, weights='distance')\n",
        "\n",
        "knn_distance.fit(X_train,y_train)\n",
        "\n",
        "y_pred = knn_distance.predict(X_test)"
      ],
      "metadata": {
        "id": "-rsAVwfLm0Dk"
      },
      "execution_count": 17,
      "outputs": []
    },
    {
      "cell_type": "code",
      "source": [
        "from sklearn.metrics import accuracy_score\n",
        "\n",
        "# Assume y_true and y_pred are the true and predicted labels, respectively\n",
        "accuracy = accuracy_score(y_test, y_pred)\n",
        "\n",
        "# Print the accuracy score\n",
        "print(\"Accuracy score: \", accuracy)"
      ],
      "metadata": {
        "id": "RvPj8KrUm10N",
        "outputId": "1441712e-6bbe-43a5-c034-d6f9e3f5e85a",
        "colab": {
          "base_uri": "https://localhost:8080/"
        }
      },
      "execution_count": 18,
      "outputs": [
        {
          "output_type": "stream",
          "name": "stdout",
          "text": [
            "Accuracy score:  0.975\n"
          ]
        }
      ]
    },
    {
      "cell_type": "markdown",
      "source": [
        "#การบ้าน หาโมเดลที่ดีที่สุด จาก DT,NaiveBayes,KNN,ANN โดย เปรียบเทียบ อย่างละสอง parameter sets"
      ],
      "metadata": {
        "id": "6cRd-0YC4dwV"
      }
    },
    {
      "cell_type": "code",
      "source": [
        "from sklearn.model_selection import train_test_split  #การแบ่งข้อมูลเป็น train set 80% และ test set 20% \n",
        "\n",
        "X_train, X_test, y_train, y_test = train_test_split(X, y, test_size=0.2, random_state=42)    # X คือ feature และ y คือ target  "
      ],
      "metadata": {
        "id": "kFoJKxdG7Zba"
      },
      "execution_count": 19,
      "outputs": []
    },
    {
      "cell_type": "markdown",
      "source": [
        "- จะใช้ 10-fold cross-validation เพื่อประเมินประสิทธิภาพของแต่ละโมเดล"
      ],
      "metadata": {
        "id": "ZKT7QhMj77An"
      }
    },
    {
      "cell_type": "markdown",
      "source": [
        "#Decision Tree"
      ],
      "metadata": {
        "id": "TMFIdi-A71c9"
      }
    },
    {
      "cell_type": "code",
      "source": [
        "from sklearn.tree import DecisionTreeClassifier     \n",
        "from sklearn.model_selection import GridSearchCV   #GridSearchCV คือ การหาค่าที่ดีที่สุดของพารามิเตอร์ วิธีคือการกำหนดค่าของแต่ละพารามิเตอร์ที่เราต้องการจะหา \n",
        "\n",
        "# Define the parameter sets to test   กำหนดชุดพารามิเตอร์ที่จะทดสอบ\n",
        "param_grid = {'max_depth': [3, 5],\n",
        "              'min_samples_split': [2, 5]}\n",
        "\n",
        "# Define the model   กำหนดโมเดล\n",
        "dt = DecisionTreeClassifier(random_state=42)\n",
        "\n",
        "# Define the grid search  #กำหนดและหา  GridSearchCV \n",
        "dt_cv = GridSearchCV(dt, param_grid, cv=10)\n",
        "\n",
        "# Fit the grid search to the data #ปรับ grid ให้ค้นหาข้อมูล\n",
        "dt_cv.fit(X_train, y_train)\n",
        "\n",
        "# Print the best parameters and the corresponding score แสดงพารามิเตอร์ที่ดีที่สุดและคะแนนที่เกี่ยวข้อง\n",
        "print(\"Best parameters: \", dt_cv.best_params_)\n",
        "print(\"Best score: \", dt_cv.best_score_)"
      ],
      "metadata": {
        "id": "ZXClKJkj7lfm",
        "outputId": "ca13b37e-c1de-4071-bd44-a81130648d14",
        "colab": {
          "base_uri": "https://localhost:8080/"
        }
      },
      "execution_count": 20,
      "outputs": [
        {
          "output_type": "stream",
          "name": "stdout",
          "text": [
            "Best parameters:  {'max_depth': 5, 'min_samples_split': 2}\n",
            "Best score:  0.645066045066045\n"
          ]
        }
      ]
    },
    {
      "cell_type": "code",
      "source": [],
      "metadata": {
        "id": "WpkRjr3A7gA0"
      },
      "execution_count": 20,
      "outputs": []
    },
    {
      "cell_type": "markdown",
      "source": [
        "#Naive Bayes"
      ],
      "metadata": {
        "id": "32hw_-Ay8Hp_"
      }
    },
    {
      "cell_type": "code",
      "source": [
        "from sklearn.naive_bayes import GaussianNB\n",
        "\n",
        "# Define the parameter sets to test   กำหนดชุดพารามิเตอร์ที่จะทดสอบ\n",
        "param_grid = {}\n",
        "\n",
        "# Define the model  กำหนดโมเดล\n",
        "nb = GaussianNB()\n",
        "\n",
        "# Define the grid search  กำหนดและหา  GridSearchCV \n",
        "nb_cv = GridSearchCV(nb, param_grid, cv=10)\n",
        "\n",
        "# Fit the grid search to the data  # ปรับการค้นหา GridSearchCV ให้พอดีกับข้อมูล\n",
        "nb_cv.fit(X_train, y_train)\n",
        "\n",
        "# Print the best parameters and the corresponding score  แสดงพารามิเตอร์ที่ดีที่สุดและคะแนนที่เกี่ยวข้อง\n",
        "print(\"Best parameters: \", nb_cv.best_params_)\n",
        "print(\"Best score: \", nb_cv.best_score_)"
      ],
      "metadata": {
        "id": "kZmazJGb8Lfu",
        "outputId": "08a6e6a7-78bd-4971-b7b8-3551b586b005",
        "colab": {
          "base_uri": "https://localhost:8080/"
        }
      },
      "execution_count": 21,
      "outputs": [
        {
          "output_type": "stream",
          "name": "stdout",
          "text": [
            "Best parameters:  {}\n",
            "Best score:  0.8295211732711734\n"
          ]
        }
      ]
    },
    {
      "cell_type": "code",
      "source": [],
      "metadata": {
        "id": "NIoXnliY8Muu"
      },
      "execution_count": 21,
      "outputs": []
    },
    {
      "cell_type": "markdown",
      "source": [
        "#KNN"
      ],
      "metadata": {
        "id": "NgIOWYnd8Owf"
      }
    },
    {
      "cell_type": "code",
      "source": [
        "from sklearn.neighbors import KNeighborsClassifier\n",
        "\n",
        "# Define the parameter sets to test   กำหนดชุดพารามิเตอร์ที่จะทดสอบ\n",
        "param_grid = {'n_neighbors': [1, 3],\n",
        "              'weights': ['uniform', 'distance']}\n",
        "\n",
        "# Define the model กำหนดโมเดล\n",
        "knn = KNeighborsClassifier()\n",
        "\n",
        "# Define the grid search  กำหนดและหา  GridSearchCV \n",
        "knn_cv = GridSearchCV(knn, param_grid, cv=10)\n",
        "\n",
        "# Fit the grid search to the data ปรับการค้นหา GridSearchCV ให้พอดีกับข้อมูล\n",
        "knn_cv.fit(X_train, y_train)\n",
        "\n",
        "# Print the best parameters and the corresponding score  แสดงพารามิเตอร์ที่ดีที่สุดและคะแนนที่เกี่ยวข้อง\n",
        "print(\"Best parameters: \", knn_cv.best_params_)\n",
        "print(\"Best score: \", knn_cv.best_score_)"
      ],
      "metadata": {
        "id": "D0CdAZC98Tnh",
        "outputId": "1842aee9-5208-49b0-82ac-927bcdabd543",
        "colab": {
          "base_uri": "https://localhost:8080/"
        }
      },
      "execution_count": 22,
      "outputs": [
        {
          "output_type": "stream",
          "name": "stdout",
          "text": [
            "Best parameters:  {'n_neighbors': 1, 'weights': 'uniform'}\n",
            "Best score:  0.9881604506604506\n"
          ]
        }
      ]
    },
    {
      "cell_type": "markdown",
      "source": [
        "#ANN"
      ],
      "metadata": {
        "id": "cmb0NcjyAFwc"
      }
    },
    {
      "cell_type": "code",
      "source": [
        "from sklearn.naive_bayes import GaussianNB\n",
        "\n",
        "# Define the parameter sets to test   กำหนดชุดพารามิเตอร์ที่จะทดสอบ\n",
        "param_grid = {}\n",
        "\n",
        "# Define the model  กำหนดโมเดล\n",
        "nb = GaussianNB()\n",
        "\n",
        "# Define the grid search  กำหนดและหา  GridSearchCV \n",
        "nb_cv = GridSearchCV(nb, param_grid, cv=10)\n",
        "\n",
        "# Fit the grid search to the data  # ปรับการค้นหา GridSearchCV ให้พอดีกับข้อมูล\n",
        "nb_cv.fit(X_train, y_train)\n",
        "\n",
        "# Print the best parameters and the corresponding score  แสดงพารามิเตอร์ที่ดีที่สุดและคะแนนที่เกี่ยวข้อง\n",
        "print(\"Best parameters: \", nb_cv.best_params_)\n",
        "print(\"Best score: \", nb_cv.best_score_)"
      ],
      "metadata": {
        "colab": {
          "base_uri": "https://localhost:8080/"
        },
        "id": "b0bnGoRGFGW4",
        "outputId": "e963921e-8051-4fcf-8747-afaa7ee9750e"
      },
      "execution_count": 23,
      "outputs": [
        {
          "output_type": "stream",
          "name": "stdout",
          "text": [
            "Best parameters:  {}\n",
            "Best score:  0.8295211732711734\n"
          ]
        }
      ]
    },
    {
      "cell_type": "markdown",
      "source": [
        "# ตัวโมเดลที่ดีที่สุด คือ KNN มีค่าเท่ากับ 0.9881604506604506"
      ],
      "metadata": {
        "id": "Ui-3NBL8IiKb"
      }
    },
    {
      "cell_type": "markdown",
      "source": [
        "#อีกวิธี\n"
      ],
      "metadata": {
        "id": "yr6QYzekGC2a"
      }
    },
    {
      "cell_type": "markdown",
      "source": [
        "- DecisionTree"
      ],
      "metadata": {
        "id": "NifBH3xkGJA_"
      }
    },
    {
      "cell_type": "code",
      "source": [
        "\n",
        "from sklearn.tree import DecisionTreeClassifier\n",
        "from sklearn.model_selection import cross_val_score\n",
        "X = digits['data']\n",
        "y = digits['target']\n",
        "# train_test_split จะใช้สุ่มแบ่ง X และ y เป็นชุดข้อมูลฝึกและชุดข้อมูลทดสอบ\n",
        "X_train, X_test, y_train, y_test = train_test_split(X, y, test_size=0.2, random_state=6, shuffle=True) #test_size=0.2 คือ 20% \n",
        "#กำหนด test_size เป็น 0.2 และกำหนด random_state เป็น 6 เพื่อให้การแบ่งชุดข้อมูลสามารถทำซ้ำได้และ shuffle เป็น True เพื่อสลับลำดับข้อมูลก่อนแบ่งชุด\n",
        "\n",
        "# Define parameter set 1\n",
        "params1 = {'criterion': 'gini', 'max_depth': 3}\n",
        "\n",
        "# Define parameter set 2\n",
        "params2 = {'criterion': 'entropy', 'max_depth': 5}\n",
        "\n",
        "# Create decision tree with parameter set 1\n",
        "dt1 = DecisionTreeClassifier(criterion=params1['criterion'], max_depth=params1['max_depth'])\n",
        "\n",
        "# Create decision tree with parameter set 2\n",
        "dt2 = DecisionTreeClassifier(criterion=params2['criterion'], max_depth=params2['max_depth'])\n",
        "\n",
        "# Evaluate the decision tree with parameter set 1\n",
        "accuracy1 = cross_val_score(dt1, digits.data, digits.target, cv=5).mean()\n",
        "\n",
        "# Evaluate the decision tree with parameter set 2\n",
        "accuracy2 = cross_val_score(dt2, digits.data, digits.target, cv=5).mean()\n",
        "\n",
        "# Compare the accuracies of the two models and choose the one with the highest accuracy\n",
        "if accuracy1 > accuracy2:\n",
        "    print(\"DT1 Parameter set 1 is better with an accuracy of\", accuracy1)\n",
        "else:\n",
        "    print(\"DT2 Parameter set 2 is better with an accuracy of\", accuracy2)\n",
        "\n",
        "# ค่า accuracy จะถูกคำนวณด้วย cross_val_score"
      ],
      "metadata": {
        "id": "FRy7RI4AGID3",
        "outputId": "18b64796-1bfe-4ea8-e1f9-f58f0eeb9fbd",
        "colab": {
          "base_uri": "https://localhost:8080/"
        }
      },
      "execution_count": 24,
      "outputs": [
        {
          "output_type": "stream",
          "name": "stdout",
          "text": [
            "DT2 Parameter set 2 is better with an accuracy of 0.7329356236459301\n"
          ]
        }
      ]
    },
    {
      "cell_type": "markdown",
      "source": [
        "- NaiveBayes"
      ],
      "metadata": {
        "id": "TjUhh-ntGxZe"
      }
    },
    {
      "cell_type": "code",
      "source": [
        "from sklearn.naive_bayes import MultinomialNB, GaussianNB\n",
        "from sklearn.model_selection import train_test_split\n",
        "\n",
        "X = digits['data']\n",
        "y = digits['target']\n",
        "# train_test_split จะใช้สุ่มแบ่ง X และ y เป็นชุดข้อมูลฝึกและชุดข้อมูลทดสอบ\n",
        "X_train, X_test, y_train, y_test = train_test_split(X, y, test_size=0.2, random_state=6, shuffle=True) #test_size=0.2 คือ 20% \n",
        "#กำหนด test_size เป็น 0.2 และกำหนด random_state เป็น 6 เพื่อให้การแบ่งชุดข้อมูลสามารถทำซ้ำได้และ shuffle เป็น True  สลับลำดับข้อมูลก่อนแบ่งชุดเพื่อลดผลกระทบจากการจัดเรียงข้อมูล\n",
        "\n",
        "# Parameter Set 1: สร้างโมเดล Multinomial Naive Bayes โดยกำหนด alpha=1.0 เพื่อใช้ Laplace smoothing\n",
        "mnb = MultinomialNB(alpha=1.0)\n",
        "mnb.fit(X_train, y_train)\n",
        "# คำนวณค่า accuracy ของโมเดลด้วยชุดข้อมูลทดสอบ (X_test, y_test)\n",
        "mnb_score = mnb.score(X_test, y_test)\n",
        "\n",
        "# Parameter Set 2: สร้างโมเดล Gaussian Naive Bayes โดยไม่ใช้ Smoothing\n",
        "gnb = GaussianNB()\n",
        "gnb.fit(X_train, y_train)\n",
        "gnb_score = gnb.score(X_test, y_test)\n",
        "\n",
        "# Print best model based on test set accuracy\n",
        "if mnb_score > gnb_score:\n",
        "    print(\"Best Model: Multinomial Naive Bayes with Laplace Smoothing\")\n",
        "    print(\"Test Accuracy: %0.2f\" % mnb_score)\n",
        "else:\n",
        "    print(\"Best Model: Gaussian Naive Bayes without Smoothing\")\n",
        "    print(\"Test Accuracy: %0.2f\" % gnb_score)"
      ],
      "metadata": {
        "id": "kE2mdif7GUPs",
        "outputId": "80096d3e-d214-4eb2-a0a2-b18808b13603",
        "colab": {
          "base_uri": "https://localhost:8080/"
        }
      },
      "execution_count": 25,
      "outputs": [
        {
          "output_type": "stream",
          "name": "stdout",
          "text": [
            "Best Model: Multinomial Naive Bayes with Laplace Smoothing\n",
            "Test Accuracy: 0.90\n"
          ]
        }
      ]
    },
    {
      "cell_type": "code",
      "source": [],
      "metadata": {
        "id": "oI_i3NvpG6LA"
      },
      "execution_count": null,
      "outputs": []
    },
    {
      "cell_type": "markdown",
      "source": [
        "- หลังจากที่ได้คำนวณค่าความแม่นยำของ Multinomial Naive Bayes และ Gaussian Naive Bayes จากข้อมูล test set แล้ว\n",
        "- เงื่อนไขที่กำหนดใน if คือ mnb_score > gnb_score ซึ่งหมายความว่าถ้าโมเดล Multinomial Naive Bayes มีค่าความแม่นยำสูงกว่าโมเดล Gaussian Naive Bayes จะเข้าเงื่อนไข if\n",
        "- และทำงานในส่วนของคำสั่งที่อยู่ภายใน if โดยพิมพ์ข้อความ \"Best Model: Multinomial Naive Bayes with Laplace Smoothing\" และค่าความแม่นยำของโมเดล Multinomial Naive Bayes ที่ได้จากการทดสอบ\n",
        "- แต่ถ้าเงื่อนไขเป็นเท็จจะเข้าเงื่อนไข else และทำงานในส่วนของคำสั่งที่อยู่ภายใน else โดยพิมพ์ข้อความ \"Best Model: Gaussian Naive Bayes without Smoothing\""
      ],
      "metadata": {
        "id": "n3eVh7DvHARy"
      }
    },
    {
      "cell_type": "code",
      "source": [],
      "metadata": {
        "id": "fWi6jfwdHQFe"
      },
      "execution_count": null,
      "outputs": []
    },
    {
      "cell_type": "markdown",
      "source": [
        "# KNN"
      ],
      "metadata": {
        "id": "dj_5H55qHTbM"
      }
    },
    {
      "cell_type": "code",
      "source": [
        "\n",
        "from sklearn.model_selection import train_test_split\n",
        "from sklearn.neighbors import KNeighborsClassifier\n",
        "\n",
        "X = digits['data']\n",
        "y = digits['target']\n",
        "# train_test_split จะใช้สุ่มแบ่ง X และ y เป็นชุดข้อมูลฝึกและชุดข้อมูลทดสอบ\n",
        "X_train, X_test, y_train, y_test = train_test_split(X, y, test_size=0.2, random_state=6, shuffle=True) #test_size=0.2 คือ 20% \n",
        "#กำหนด test_size เป็น 0.2 และกำหนด random_state เป็น 6 เพื่อให้การแบ่งชุดข้อมูลสามารถทำซ้ำได้และ shuffle เป็น True เพื่อสลับลำดับข้อมูลก่อนแบ่งชุด\n",
        "\n",
        "# Define parameter sets\n",
        "params_set_1 = {'n_neighbors': 3, 'weights': 'uniform'}\n",
        "params_set_2 = {'n_neighbors': 5, 'weights': 'distance'}\n",
        "\n",
        "# Train and test KNN models with parameter sets\n",
        "knn_1 = KNeighborsClassifier(**params_set_1)\n",
        "knn_1.fit(X_train, y_train)\n",
        "print('KNN 1 accuracy:', knn_1.score(X_test, y_test))\n",
        "\n",
        "knn_2 = KNeighborsClassifier(**params_set_2)\n",
        "knn_2.fit(X_train, y_train)\n",
        "print('KNN 2 accuracy:', knn_2.score(X_test, y_test))"
      ],
      "metadata": {
        "id": "Ep1mEOWfHWD6",
        "outputId": "eaf42891-14ec-4273-f1a2-a72bacc6d975",
        "colab": {
          "base_uri": "https://localhost:8080/"
        }
      },
      "execution_count": 26,
      "outputs": [
        {
          "output_type": "stream",
          "name": "stdout",
          "text": [
            "KNN 1 accuracy: 0.9861111111111112\n",
            "KNN 2 accuracy: 0.9888888888888889\n"
          ]
        }
      ]
    },
    {
      "cell_type": "markdown",
      "source": [
        "#ANN"
      ],
      "metadata": {
        "id": "V3mBBv6pHj_p"
      }
    },
    {
      "cell_type": "code",
      "source": [
        "from sklearn.model_selection import train_test_split\n",
        "from sklearn.neural_network import MLPClassifier\n",
        "from sklearn.metrics import accuracy_score\n",
        "\n",
        "X = digits['data']\n",
        "y = digits['target']\n",
        "# train_test_split จะใช้สุ่มแบ่ง X และ y เป็นชุดข้อมูลฝึกและชุดข้อมูลทดสอบ\n",
        "X_train, X_test, y_train, y_test = train_test_split(X, y, test_size=0.2, random_state=6, shuffle=True) #test_size=0.2 คือ 20% \n",
        "#กำหนด test_size เป็น 0.2 และกำหนด random_state เป็น 6 เพื่อให้การแบ่งชุดข้อมูลสามารถทำซ้ำได้และ shuffle เป็น True เพื่อสลับลำดับข้อมูลก่อนแบ่งชุด\n",
        "\n",
        "# กำหนด parameter sets ที่ต้องการทดสอบ\n",
        "#กำหนด parameter sets ที่ต้องการทดสอบโดยกำหนด hidden_layer_sizes เป็นจำนวนโหนดใน Hidden layer และกำหนด activation เป็นฟังก์ชัน Activation function \n",
        "#และกำหนด solver เป็น Algorithm สำหรับ optimization\n",
        "param_set_1 = {'hidden_layer_sizes': (50,), 'activation': 'logistic', 'solver': 'lbfgs'} \n",
        "param_set_2 = {'hidden_layer_sizes': (100,), 'activation': 'relu', 'solver': 'adam'}\n",
        "\n",
        "# สร้างและ train โมเดล ANN สำหรับ parameter sets ที่กำหนด โดยใช้ MLPClassifier และ fit โมเดลด้วยข้อมูล X_train และ y_train\n",
        "\n",
        "model_1 = MLPClassifier(**param_set_1, random_state=42)\n",
        "model_1.fit(X_train, y_train)\n",
        "\n",
        "model_2 = MLPClassifier(**param_set_2, random_state=42)\n",
        "model_2.fit(X_train, y_train)\n",
        "\n",
        "# ประเมินประสิทธิภาพของโมเดล ANN กับ test set โดยใช้ predict เพื่อทำนายผลลัพธ์จากโมเดลและใช้ accuracy_score เพื่อคำนวณค่าความแม่นยำของโมเดล\n",
        "y_pred_1 = model_1.predict(X_test)\n",
        "accuracy_1 = accuracy_score(y_test, y_pred_1)\n",
        "\n",
        "y_pred_2 = model_2.predict(X_test)\n",
        "accuracy_2 = accuracy_score(y_test, y_pred_2)\n",
        "\n",
        "\n",
        "#แสดงผลลัพธ์ค่าความแม่นยำของโมเดล ANN ของ parameter sets 1 และ 2\n",
        "print(f\"Accuracy for model 1 ANN1: {accuracy_1}\")\n",
        "print(f\"Accuracy for model 2 ANN2: {accuracy_2}\")"
      ],
      "metadata": {
        "id": "ezKn-8Y7HrXR",
        "outputId": "73301382-3be5-4cfe-8738-6821ad030723",
        "colab": {
          "base_uri": "https://localhost:8080/"
        }
      },
      "execution_count": 29,
      "outputs": [
        {
          "output_type": "stream",
          "name": "stdout",
          "text": [
            "Accuracy for model 1 ANN1: 0.9638888888888889\n",
            "Accuracy for model 2 ANN2: 0.9694444444444444\n"
          ]
        }
      ]
    },
    {
      "cell_type": "markdown",
      "source": [
        "#รวม"
      ],
      "metadata": {
        "id": "SbVBoE2xH0h5"
      }
    },
    {
      "cell_type": "code",
      "source": [
        "\n",
        "from sklearn.tree import DecisionTreeClassifier\n",
        "from sklearn.model_selection import cross_val_score\n",
        "X = digits['data']\n",
        "y = digits['target']\n",
        "# train_test_split จะใช้สุ่มแบ่ง X และ y เป็นชุดข้อมูลฝึกและชุดข้อมูลทดสอบ\n",
        "X_train, X_test, y_train, y_test = train_test_split(X, y, test_size=0.2, random_state=6, shuffle=True) #test_size=0.2 คือ 20% \n",
        "#กำหนด test_size เป็น 0.2 และกำหนด random_state เป็น 6 เพื่อให้การแบ่งชุดข้อมูลสามารถทำซ้ำได้และ shuffle เป็น True เพื่อสลับลำดับข้อมูลก่อนแบ่งชุด\n",
        "\n",
        "#DT\n",
        "# Define parameter set 1\n",
        "params1 = {'criterion': 'gini', 'max_depth': 3}\n",
        "# Define parameter set 2\n",
        "params2 = {'criterion': 'entropy', 'max_depth': 5}\n",
        "# Create decision tree with parameter set 1\n",
        "dt1 = DecisionTreeClassifier(criterion=params1['criterion'], max_depth=params1['max_depth'])\n",
        "# Create decision tree with parameter set 2\n",
        "dt2 = DecisionTreeClassifier(criterion=params2['criterion'], max_depth=params2['max_depth'])\n",
        "# Evaluate the decision tree with parameter set 1\n",
        "accuracy1 = cross_val_score(dt1, digits.data, digits.target, cv=5).mean()\n",
        "# Evaluate the decision tree with parameter set 2\n",
        "accuracy2 = cross_val_score(dt2, digits.data, digits.target, cv=5).mean()\n",
        "# Compare the accuracies of the two models and choose the one with the highest accuracy\n",
        "if accuracy1 > accuracy2:\n",
        "    print(\"DT1 Parameter set 1 is better with an accuracy of\", accuracy1)\n",
        "else:\n",
        "    print(\"DT2 Parameter set 2 is better with an accuracy of\", accuracy2)\n",
        "\n",
        "#NaiveBayes\n",
        "# Parameter Set 1: Multinomial Naive Bayes with Laplace Smoothing\n",
        "mnb = MultinomialNB(alpha=1.0)\n",
        "mnb.fit(X_train, y_train)\n",
        "mnb_score = mnb.score(X_test, y_test)\n",
        "\n",
        "# Parameter Set 2: Gaussian Naive Bayes without Smoothing\n",
        "gnb = GaussianNB()\n",
        "gnb.fit(X_train, y_train)\n",
        "gnb_score = gnb.score(X_test, y_test)\n",
        "\n",
        "# Print best model based on test set accuracy\n",
        "if mnb_score > gnb_score:\n",
        "    print(\"Best Model: Multinomial Naive Bayes with Laplace Smoothing\")\n",
        "    print(\"Test Accuracy: %0.2f\" % mnb_score)\n",
        "else:\n",
        "    print(\"Best Model: Gaussian Naive Bayes without Smoothing\")\n",
        "    print(\"Test Accuracy: %0.2f\" % gnb_score)\n",
        "\n",
        "#KNN\n",
        "# Define parameter sets\n",
        "params_set_1 = {'n_neighbors': 3, 'weights': 'uniform'}\n",
        "params_set_2 = {'n_neighbors': 5, 'weights': 'distance'}\n",
        "\n",
        "# Train and test KNN models with parameter sets\n",
        "knn_1 = KNeighborsClassifier(**params_set_1)\n",
        "knn_1.fit(X_train, y_train)\n",
        "print('KNN 1 accuracy:', knn_1.score(X_test, y_test))\n",
        "\n",
        "knn_2 = KNeighborsClassifier(**params_set_2)\n",
        "knn_2.fit(X_train, y_train)\n",
        "print('KNN 2 accuracy:', knn_2.score(X_test, y_test))\n",
        "\n",
        "#ANN\n",
        "# กำหนด parameter sets ที่ต้องการทดสอบ\n",
        "#กำหนด parameter sets ที่ต้องการทดสอบโดยกำหนด hidden_layer_sizes เป็นจำนวนโหนดใน Hidden layer และกำหนด activation เป็นฟังก์ชัน Activation function \n",
        "#และกำหนด solver เป็น Algorithm สำหรับ optimization\n",
        "param_set_1 = {'hidden_layer_sizes': (50,), 'activation': 'logistic', 'solver': 'lbfgs'} \n",
        "param_set_2 = {'hidden_layer_sizes': (100,), 'activation': 'relu', 'solver': 'adam'}\n",
        "\n",
        "# สร้างและ train โมเดล ANN สำหรับ parameter sets ที่กำหนด โดยใช้ MLPClassifier และ fit โมเดลด้วยข้อมูล X_train และ y_train\n",
        "\n",
        "model_1 = MLPClassifier(**param_set_1, random_state=42)\n",
        "model_1.fit(X_train, y_train)\n",
        "\n",
        "model_2 = MLPClassifier(**param_set_2, random_state=42)\n",
        "model_2.fit(X_train, y_train)\n",
        "\n",
        "# ประเมินประสิทธิภาพของโมเดล ANN กับ test set โดยใช้ predict เพื่อทำนายผลลัพธ์จากโมเดลและใช้ accuracy_score เพื่อคำนวณค่าความแม่นยำของโมเดล\n",
        "y_pred_1 = model_1.predict(X_test)\n",
        "accuracy_1 = accuracy_score(y_test, y_pred_1)\n",
        "\n",
        "y_pred_2 = model_2.predict(X_test)\n",
        "accuracy_2 = accuracy_score(y_test, y_pred_2)\n",
        "\n",
        "#แสดงผลลัพธ์ค่าความแม่นยำของโมเดล ANN ของ parameter sets 1 และ 2\n",
        "print(f\"Accuracy for model 1 ANN1: {accuracy_1}\")\n",
        "print(f\"Accuracy for model 2 ANN2: {accuracy_2}\")\n",
        "\n",
        "\n",
        "\n",
        "print('โมเดลที่ดีที่สุดคือ KNN 2 accuracy:', knn_2.score(X_test, y_test))"
      ],
      "metadata": {
        "id": "UnWZmf7EH6h8",
        "outputId": "96a6194e-e329-4c75-b574-305b53922a2c",
        "colab": {
          "base_uri": "https://localhost:8080/"
        }
      },
      "execution_count": 30,
      "outputs": [
        {
          "output_type": "stream",
          "name": "stdout",
          "text": [
            "DT2 Parameter set 2 is better with an accuracy of 0.7334911792014858\n",
            "Best Model: Multinomial Naive Bayes with Laplace Smoothing\n",
            "Test Accuracy: 0.90\n",
            "KNN 1 accuracy: 0.9861111111111112\n",
            "KNN 2 accuracy: 0.9888888888888889\n",
            "Accuracy for model 1 ANN1: 0.9638888888888889\n",
            "Accuracy for model 2 ANN2: 0.9694444444444444\n",
            "โมเดลที่ดีที่สุดคือ KNN 2 accuracy: 0.9888888888888889\n"
          ]
        }
      ]
    }
  ]
}